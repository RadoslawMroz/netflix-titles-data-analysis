import pandas as pd
import matplotlib.pyplot as plt
import seaborn as sns
sns.set()


data = pd.read_csv('netflix_titles.csv')
data.head()





data['type'].unique()


movies_df = data[data['type'] == 'Movie']
movies_df.head()


movies_df['release_year'].unique()


release_year_counted = pd.DataFrame(movies_df['release_year'].value_counts().reset_index())
release_year_counted.columns = ['release_year', 'count']
release_year_counted


# Percentage of movies added in 2017 (the same for 2018). 
movies_counted = movies_df['release_year'].count()
movies_release_year_max = release_year_counted['count'][0]
percentage_movies_release_year_max = movies_release_year_max/movies_counted*100
percentage_movies_release_year_max.round(1)


plt.figure(figsize=(8,8))
plt.pie([percentage_movies_release_year_max.round(1),percentage_movies_release_year_max.round(1), 100-2*percentage_movies_release_year_max.round(1)], labels=['movies released at 2017', 'movies released at 2018', 'rest movies released'], colors=['red','blue','green'])
plt.title('Movies released during each year')





data['date_added'] = data['date_added'].str.strip()
data['new_date'] = pd.to_datetime(data['date_added'])
data['year_added'] = data['new_date'].dt.year
data.head()


data['year_added'].unique()


date_added_counted = pd.DataFrame(data['year_added'].value_counts().reset_index())
date_added_counted.columns = ['year_added', 'count']
date_added_counted


# Percentage of content added to netflix in 2019
content_counted = data['year_added'].count()
content_year_added_max = date_added_counted['count'][0]
percentage_content_year_added_max = content_year_added_max/content_counted*100
percentage_content_year_added_max.round(2)


plt.figure(figsize=(8,8))
plt.pie([percentage_content_year_added_max.round(2), 100-percentage_content_year_added_max.round(2)], labels=['content added to netflix in 2019', 'rest content added to netflix'], colors=['red', 'green'])





data['month_added'] = data['new_date'].dt.month
data.head()


month_added_counted = pd.DataFrame(data['month_added'].value_counts().reset_index())
month_added_counted.columns = ['month_added', 'count']
month_added_counted


# Percentage of content added in July
content_month_added_max = month_added_counted['count'][0]
percentage_content_month_added_max = content_month_added_max/content_amount*100
percentage_content_month_added_max.round(2)


plt.figure(figsize=(8,8))
plt.pie([percentage_content_month_added_max.round(2), 100-percentage_content_month_added_max.round(2)], labels=['content added to netflix in July', 'content added in other months'], colors=['red', 'green'])





movies_df['title_lenght'] = [len(title) for title in movies_df['title']]
movies_df.head()


title_lenght = movies_df.sort_values(['title_lenght'], ascending=False)
title_lenght.head(1)


title_lenght.iloc[0]['title']





data.head(10)


# Percentage of movies and tv series in dataset
movies_percentage = movies_counted/content_counted*100
tv_series_percentage = 100 - movies_percentage
print(movies_percentage.round(2))
print(tv_series_percentage.round(2))


plt.figure(figsize=(8,8))
plt.pie([tv_series_percentage, movies_percentage], labels=['tv series percentage', 'movies percentage'], colors=['red', 'green'])









